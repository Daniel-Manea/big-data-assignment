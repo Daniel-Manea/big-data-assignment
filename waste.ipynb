{
 "cells": [
  {
   "cell_type": "code",
   "execution_count": null,
   "metadata": {},
   "outputs": [],
   "source": [
    "df = pastry_inventory = pd.read_csv(\"../app/data/pastry_inventory.csv\", delimiter=\",\")\n",
    "\n",
    "# Extract waste percentage as numeric values\n",
    "df['% waste'] = df['% waste'].str.rstrip('%').astype(float)\n",
    "\n",
    "# Get unique product IDs\n",
    "unique_product_ids = df['product_id'].unique()\n",
    "\n",
    "# Create a bar plot to visualize waste percentage by product\n",
    "plt.figure(figsize=(12, 6))\n",
    "plt.bar(unique_product_ids, df.groupby('product_id')['% waste'].mean(), color='skyblue')\n",
    "plt.xlabel('Product ID')\n",
    "plt.ylabel('Average Waste Percentage (%)')\n",
    "plt.title('Average Waste Percentage by Product')\n",
    "plt.xticks(unique_product_ids)\n",
    "plt.grid(axis='y', linestyle='--', alpha=0.7)\n",
    "plt.tight_layout()\n",
    "\n",
    "# Show the plot\n",
    "plt.show()"
   ]
  }
 ],
 "metadata": {
  "language_info": {
   "name": "python"
  },
  "orig_nbformat": 4
 },
 "nbformat": 4,
 "nbformat_minor": 2
}
