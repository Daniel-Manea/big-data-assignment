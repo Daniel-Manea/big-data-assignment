{
 "cells": [
  {
   "cell_type": "code",
   "execution_count": 11,
   "metadata": {},
   "outputs": [],
   "source": [
    "import csv\n",
    "import re\n",
    "import scipy\n",
    "import requests\n",
    "import numpy as np\n",
    "import pandas as pd\n",
    "import seaborn as sb\n",
    "import matplotlib.pyplot as plt\n",
    "from scipy import stats\n",
    "from io import StringIO"
   ]
  },
  {
   "cell_type": "markdown",
   "metadata": {},
   "source": [
    "# Graph of sales by product"
   ]
  },
  {
   "cell_type": "code",
   "execution_count": 12,
   "metadata": {},
   "outputs": [
    {
     "name": "stdout",
     "output_type": "stream",
     "text": [
      "\"\"\"product_id\"//product_group//product_category//product_type//product//product_description//unit_of_measure//current_wholesale_price//current_retail_price//tax_exempt_yn//promo_yn//new_product_yn\n",
      "\n",
      "Empty DataFrame\n",
      "Columns: [\"product_id//product_group//product_category//product_type//product//product_description//unit_of_measure//current_wholesale_price//current_retail_price//tax_exempt_yn//promo_yn//new_product_yn]\n",
      "Index: []\n"
     ]
    },
    {
     "ename": "KeyError",
     "evalue": "\"None of [Index(['product_id', 'product_group', 'product_category', 'product_type',\\n       'product'],\\n      dtype='object')] are in the [columns]\"",
     "output_type": "error",
     "traceback": [
      "\u001b[0;31m---------------------------------------------------------------------------\u001b[0m",
      "\u001b[0;31mKeyError\u001b[0m                                  Traceback (most recent call last)",
      "\u001b[1;32m/app/Sales_by_product_type.ipynb Cell 3\u001b[0m line \u001b[0;36m3\n\u001b[1;32m     <a href='vscode-notebook-cell://attached-container%2B7b22636f6e7461696e65724e616d65223a222f6e6f7465626f6f6b227d/app/Sales_by_product_type.ipynb#W2sdnNjb2RlLXJlbW90ZQ%3D%3D?line=34'>35</a>\u001b[0m         \u001b[39mprint\u001b[39m(\u001b[39m\"\u001b[39m\u001b[39mFailed to retrieve data. Status code:\u001b[39m\u001b[39m\"\u001b[39m, response\u001b[39m.\u001b[39mstatus_code)\n\u001b[1;32m     <a href='vscode-notebook-cell://attached-container%2B7b22636f6e7461696e65724e616d65223a222f6e6f7465626f6f6b227d/app/Sales_by_product_type.ipynb#W2sdnNjb2RlLXJlbW90ZQ%3D%3D?line=37'>38</a>\u001b[0m products \u001b[39m=\u001b[39m processCSV(\u001b[39m\"\u001b[39m\u001b[39mproduct\u001b[39m\u001b[39m\"\u001b[39m)\n\u001b[0;32m---> <a href='vscode-notebook-cell://attached-container%2B7b22636f6e7461696e65724e616d65223a222f6e6f7465626f6f6b227d/app/Sales_by_product_type.ipynb#W2sdnNjb2RlLXJlbW90ZQ%3D%3D?line=38'>39</a>\u001b[0m products \u001b[39m=\u001b[39m products[[\u001b[39m'\u001b[39;49m\u001b[39mproduct_id\u001b[39;49m\u001b[39m'\u001b[39;49m, \u001b[39m'\u001b[39;49m\u001b[39mproduct_group\u001b[39;49m\u001b[39m'\u001b[39;49m, \u001b[39m'\u001b[39;49m\u001b[39mproduct_category\u001b[39;49m\u001b[39m'\u001b[39;49m, \u001b[39m'\u001b[39;49m\u001b[39mproduct_type\u001b[39;49m\u001b[39m'\u001b[39;49m, \u001b[39m'\u001b[39;49m\u001b[39mproduct\u001b[39;49m\u001b[39m'\u001b[39;49m]]\n\u001b[1;32m     <a href='vscode-notebook-cell://attached-container%2B7b22636f6e7461696e65724e616d65223a222f6e6f7465626f6f6b227d/app/Sales_by_product_type.ipynb#W2sdnNjb2RlLXJlbW90ZQ%3D%3D?line=40'>41</a>\u001b[0m customers \u001b[39m=\u001b[39m processCSV(\u001b[39m\"\u001b[39m\u001b[39mcustomers\u001b[39m\u001b[39m\"\u001b[39m)\n\u001b[1;32m     <a href='vscode-notebook-cell://attached-container%2B7b22636f6e7461696e65724e616d65223a222f6e6f7465626f6f6b227d/app/Sales_by_product_type.ipynb#W2sdnNjb2RlLXJlbW90ZQ%3D%3D?line=41'>42</a>\u001b[0m customers \u001b[39m=\u001b[39m customers[[\u001b[39m'\u001b[39m\u001b[39mcustomer_id\u001b[39m\u001b[39m'\u001b[39m, \u001b[39m'\u001b[39m\u001b[39mgender\u001b[39m\u001b[39m'\u001b[39m, \u001b[39m'\u001b[39m\u001b[39mbirth_year\u001b[39m\u001b[39m'\u001b[39m]]\n",
      "File \u001b[0;32m/usr/local/lib/python3.11/site-packages/pandas/core/frame.py:3902\u001b[0m, in \u001b[0;36mDataFrame.__getitem__\u001b[0;34m(self, key)\u001b[0m\n\u001b[1;32m   3900\u001b[0m     \u001b[39mif\u001b[39;00m is_iterator(key):\n\u001b[1;32m   3901\u001b[0m         key \u001b[39m=\u001b[39m \u001b[39mlist\u001b[39m(key)\n\u001b[0;32m-> 3902\u001b[0m     indexer \u001b[39m=\u001b[39m \u001b[39mself\u001b[39;49m\u001b[39m.\u001b[39;49mcolumns\u001b[39m.\u001b[39;49m_get_indexer_strict(key, \u001b[39m\"\u001b[39;49m\u001b[39mcolumns\u001b[39;49m\u001b[39m\"\u001b[39;49m)[\u001b[39m1\u001b[39m]\n\u001b[1;32m   3904\u001b[0m \u001b[39m# take() does not accept boolean indexers\u001b[39;00m\n\u001b[1;32m   3905\u001b[0m \u001b[39mif\u001b[39;00m \u001b[39mgetattr\u001b[39m(indexer, \u001b[39m\"\u001b[39m\u001b[39mdtype\u001b[39m\u001b[39m\"\u001b[39m, \u001b[39mNone\u001b[39;00m) \u001b[39m==\u001b[39m \u001b[39mbool\u001b[39m:\n",
      "File \u001b[0;32m/usr/local/lib/python3.11/site-packages/pandas/core/indexes/base.py:6114\u001b[0m, in \u001b[0;36mIndex._get_indexer_strict\u001b[0;34m(self, key, axis_name)\u001b[0m\n\u001b[1;32m   6111\u001b[0m \u001b[39melse\u001b[39;00m:\n\u001b[1;32m   6112\u001b[0m     keyarr, indexer, new_indexer \u001b[39m=\u001b[39m \u001b[39mself\u001b[39m\u001b[39m.\u001b[39m_reindex_non_unique(keyarr)\n\u001b[0;32m-> 6114\u001b[0m \u001b[39mself\u001b[39;49m\u001b[39m.\u001b[39;49m_raise_if_missing(keyarr, indexer, axis_name)\n\u001b[1;32m   6116\u001b[0m keyarr \u001b[39m=\u001b[39m \u001b[39mself\u001b[39m\u001b[39m.\u001b[39mtake(indexer)\n\u001b[1;32m   6117\u001b[0m \u001b[39mif\u001b[39;00m \u001b[39misinstance\u001b[39m(key, Index):\n\u001b[1;32m   6118\u001b[0m     \u001b[39m# GH 42790 - Preserve name from an Index\u001b[39;00m\n",
      "File \u001b[0;32m/usr/local/lib/python3.11/site-packages/pandas/core/indexes/base.py:6175\u001b[0m, in \u001b[0;36mIndex._raise_if_missing\u001b[0;34m(self, key, indexer, axis_name)\u001b[0m\n\u001b[1;32m   6173\u001b[0m     \u001b[39mif\u001b[39;00m use_interval_msg:\n\u001b[1;32m   6174\u001b[0m         key \u001b[39m=\u001b[39m \u001b[39mlist\u001b[39m(key)\n\u001b[0;32m-> 6175\u001b[0m     \u001b[39mraise\u001b[39;00m \u001b[39mKeyError\u001b[39;00m(\u001b[39mf\u001b[39m\u001b[39m\"\u001b[39m\u001b[39mNone of [\u001b[39m\u001b[39m{\u001b[39;00mkey\u001b[39m}\u001b[39;00m\u001b[39m] are in the [\u001b[39m\u001b[39m{\u001b[39;00maxis_name\u001b[39m}\u001b[39;00m\u001b[39m]\u001b[39m\u001b[39m\"\u001b[39m)\n\u001b[1;32m   6177\u001b[0m not_found \u001b[39m=\u001b[39m \u001b[39mlist\u001b[39m(ensure_index(key)[missing_mask\u001b[39m.\u001b[39mnonzero()[\u001b[39m0\u001b[39m]]\u001b[39m.\u001b[39munique())\n\u001b[1;32m   6178\u001b[0m \u001b[39mraise\u001b[39;00m \u001b[39mKeyError\u001b[39;00m(\u001b[39mf\u001b[39m\u001b[39m\"\u001b[39m\u001b[39m{\u001b[39;00mnot_found\u001b[39m}\u001b[39;00m\u001b[39m not in index\u001b[39m\u001b[39m\"\u001b[39m)\n",
      "\u001b[0;31mKeyError\u001b[0m: \"None of [Index(['product_id', 'product_group', 'product_category', 'product_type',\\n       'product'],\\n      dtype='object')] are in the [columns]\""
     ]
    }
   ],
   "source": [
    "def processCSV(data_name: str):\n",
    "    # Send a GET request to the endpoint\n",
    "    response = requests.get(f\"http://127.0.0.1:8000/{data_name}\")\n",
    "\n",
    "        # Check if the request was successful (status code 200)\n",
    "    if response.status_code == 200:\n",
    "        # Create a CSV writer\n",
    "        output_csv = StringIO()\n",
    "        csv_writer = csv.writer(output_csv)\n",
    "\n",
    "        # Split input string into lines and write them to the CSV\n",
    "    for line in response.text.split('\\\\n'):\n",
    "        csv_writer.writerow(line.split(','))\n",
    "        print(line)\n",
    "        # Get the CSV content as a string\n",
    "        csv_content = output_csv.getvalue().replace(\"\\\"\", \"\")\n",
    "\n",
    "        # Close the StringIO object\n",
    "        output_csv.close()\n",
    "\n",
    "        df = pd.read_csv(StringIO(csv_content))\n",
    "\n",
    "        return df\n",
    "    else:\n",
    "        print(\"Failed to retrieve data. Status code:\", response.status_code)\n",
    "\n",
    "\n",
    "products = processCSV(\"product\")\n",
    "print(products)\n",
    "\n",
    "products = products[['product_id', 'product_group', 'product_category', 'product_type', 'product']]\n",
    "\n",
    "customers = processCSV(\"customers\")\n",
    "customers = customers[['customer_id', 'gender', 'birth_year']]\n",
    "\n",
    "sales_receipts = processCSV(\"sales_reciepts\")\n",
    "\n",
    "specific_date = '2019-04-01' # Filtering for Date\n",
    "specific_instore = 'N' # Filtering for Instore\n",
    "\n",
    "sales_receipts_final = sales_receipts.loc[\n",
    "    (sales_receipts['transaction_date'].str.contains(specific_date)) &\n",
    "    (sales_receipts['instore_yn'] == specific_instore)\n",
    "]\n",
    "\n",
    "filtered_sales = sales_receipts_final[['product_id', 'transaction_date', 'customer_id', 'quantity']]\n",
    "sales_receipts_grouped = filtered_sales.groupby('product_id')['quantity'].sum().reset_index()\n",
    "sales_receipts_final = pd.merge(sales_receipts_grouped, products, on='product_id', how='left')\n",
    "sales_receipts_final.sort_values(by=\"product_id\", ascending=False)\n",
    "\n",
    "highest_product_id = sales_receipts_final['product_id'].max()\n",
    "lowest_product_id = sales_receipts_final['product_id'].min()\n",
    "\n",
    "bar_x_labels = []; # Labels for X axis\n",
    "for id, product in zip(sales_receipts_final['product_id'], sales_receipts_final['product_type']):\n",
    "    bar_x_labels.append(f\"{id} - {product}\")\n",
    "\n",
    "fig, ax = plt.subplots(figsize=(20, 10))\n",
    "plt.bar(sales_receipts_final['product_id'], sales_receipts_final['quantity'], color=(0.2, 0.6, 0.2, 1))\n",
    "plt.xticks(sales_receipts_final['product_id'], bar_x_labels, rotation=90)\n",
    "\n",
    "ax.set_xlabel(f\"In store: {'No' if specific_instore == 'N' else 'Yes'}\\n Date: {specific_date}\")\n",
    "ax.set_ylabel(\"Purchased quantity\", color='blue')\n",
    "\n",
    "for id, quan in zip(sales_receipts_final['product_id'], sales_receipts_final['quantity']):\n",
    "    ax.text(id - .30, quan / 2, str(quan), color='black', fontweight='bold', rotation=90)"
   ]
  }
 ],
 "metadata": {
  "kernelspec": {
   "display_name": "Python 3",
   "language": "python",
   "name": "python3"
  },
  "language_info": {
   "codemirror_mode": {
    "name": "ipython",
    "version": 3
   },
   "file_extension": ".py",
   "mimetype": "text/x-python",
   "name": "python",
   "nbconvert_exporter": "python",
   "pygments_lexer": "ipython3",
   "version": "3.11.5"
  },
  "orig_nbformat": 4
 },
 "nbformat": 4,
 "nbformat_minor": 2
}
