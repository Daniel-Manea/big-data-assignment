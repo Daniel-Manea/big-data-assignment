{
 "cells": [
  {
   "cell_type": "markdown",
   "metadata": {},
   "source": [
    "**Case: Optimering af Online Retail Platform**\n",
    "\n",
    "Du arbejder som en dataingeniør i en online detailhandelsvirksomhed ved navn \"X,\" der ønsker at forbedre sin kundeservice og salgsstrategi ved at udnytte Big Data. Virksomheden har adgang til en bred vifte af datakilder, herunder transaktionsdata, brugeradfærd på webstedet, sociale mediedata og eksterne markedsdata. Din opgave er at designe og opbygge en mindre Big Data løsning for X.\n"
   ]
  },
  {
   "cell_type": "markdown",
   "metadata": {},
   "source": [
    "1. **Dataindsamling og Opsamling:**\n",
    "   - Design en løsning til at indsamle og opsamle data fra forskellige kilder i realtid, inklusive transaktionsdata, webadfærd og sociale mediedata. Overvej anvendelse af HTTPS (REST), Kafka eller MQTT til dataindsamling.\n",
    "   - Sikkerhedsaspekter er vigtige. Implementer kryptering af data under transport for at beskytte følsomme oplysninger."
   ]
  },
  {
   "cell_type": "markdown",
   "metadata": {},
   "source": [
    "2. **Dataforberedelse og Transformation:**\n",
    "   - Opbyg en pipeline til at rengøre, strukturere og forberede data til analyse. Dette inkluderer valg af filformater som CSV, XML, HDF5 osv.\n",
    "   - Håndter forskellige datatyper, herunder struktureret og ustruktureret data."
   ]
  },
  {
   "cell_type": "markdown",
   "metadata": {},
   "source": [
    "3. **Analyse og Præsentation:**\n",
    "   - Anvend dataanalyseværktøjer og teknikker til at trække indsigt fra de forberedte data.\n",
    "   - Design dashboards eller rapporter for at give virksomhedens beslutningstagere nem adgang til relevante oplysninger."
   ]
  },
  {
   "cell_type": "markdown",
   "metadata": {},
   "source": [
    "4. **Sikkerhed og Overholdelse:**\n",
    "   - Implementer omfattende sikkerhedsforanstaltninger for at beskytte data mod uautoriseret adgang og misbrug.\n",
    "   - Overhold databeskyttelsesregler, især GDPR, når du håndterer brugerdata."
   ]
  },
  {
   "cell_type": "markdown",
   "metadata": {},
   "source": [
    "5. **Skalering og Optimering:**\n",
    "   - Overvej hvordan løsningen kan skaleres i fremtiden med virksomhedens vækst og øgede datamængder.\n",
    "   - Identificer muligheder for ydeevneoptimering."
   ]
  },
  {
   "cell_type": "markdown",
   "metadata": {},
   "source": [
    "Din Big Data løsning skal hjælpe RetailX med at træffe informerede beslutninger, forbedre kundeservicen og optimere salgsstrategien ved at udnytte de enorme datamængder, der er tilgængelige. Din evne til at integrere dataindsamling, forberedelse, analyse og sikkerhed vil være afgørende for succes i denne opgave."
   ]
  }
 ],
 "metadata": {
  "language_info": {
   "name": "python"
  },
  "orig_nbformat": 4
 },
 "nbformat": 4,
 "nbformat_minor": 2
}
